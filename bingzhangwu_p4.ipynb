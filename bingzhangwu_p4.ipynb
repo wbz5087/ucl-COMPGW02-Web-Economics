{
 "cells": [
  {
   "cell_type": "code",
   "execution_count": 1,
   "metadata": {},
   "outputs": [],
   "source": [
    "import pandas as pd\n",
    "import numpy as np\n",
    "import os\n",
    "import seaborn as sns\n",
    "from sklearn.linear_model import LogisticRegression   \n",
    "from sklearn.model_selection import train_test_split\n",
    "from sklearn.metrics import roc_auc_score\n",
    "from sklearn.metrics import roc_curve,auc\n",
    "from sklearn.model_selection import GridSearchCV\n",
    "import xgboost\n",
    "import matplotlib.pyplot as plt\n",
    "from sklearn.metrics import log_loss"
   ]
  },
  {
   "cell_type": "code",
   "execution_count": 2,
   "metadata": {},
   "outputs": [
    {
     "name": "stderr",
     "output_type": "stream",
     "text": [
      "/Library/Frameworks/Python.framework/Versions/3.6/lib/python3.6/site-packages/sklearn/cross_validation.py:41: DeprecationWarning: This module was deprecated in version 0.18 in favor of the model_selection module into which all the refactored classes and functions are moved. Also note that the interface of the new CV iterators are different from that of this module. This module will be removed in 0.20.\n",
      "  \"This module will be removed in 0.20.\", DeprecationWarning)\n"
     ]
    }
   ],
   "source": [
    "from sklearn.pipeline import Pipeline\n",
    "from sklearn.metrics import roc_curve\n",
    "from sklearn.metrics import auc\n",
    "from sklearn.preprocessing import StandardScaler\n",
    "from sklearn.cross_validation import cross_val_score\n",
    "from sklearn.ensemble import RandomForestClassifier,GradientBoostingClassifier\n",
    "from sklearn.neighbors import KNeighborsClassifier\n",
    "from sklearn.base import BaseEstimator\n",
    "from sklearn.base import ClassifierMixin\n",
    "from sklearn.preprocessing import LabelEncoder\n",
    "from sklearn.externals import six\n",
    "from sklearn.base import clone\n",
    "from sklearn.pipeline import _name_estimators\n",
    "import numpy as np\n",
    "import operator\n",
    "from sklearn.metrics import roc_curve\n",
    "from sklearn.metrics import auc\n",
    "from sklearn.externals import joblib\n",
    "from imblearn.under_sampling import RandomUnderSampler\n",
    "from imblearn.over_sampling import RandomOverSampler"
   ]
  },
  {
   "cell_type": "code",
   "execution_count": 4,
   "metadata": {},
   "outputs": [],
   "source": [
    "group=pd.read_csv('Group_xx.csv')\n",
    "train=pd.read_csv('train.csv')\n",
    "validation=pd.read_csv('validation.csv')\n",
    "test=pd.read_csv('test.csv')"
   ]
  },
  {
   "cell_type": "code",
   "execution_count": 5,
   "metadata": {},
   "outputs": [],
   "source": [
    "train=train[train.payprice>=train.slotprice]\n",
    "validation=validation[validation.payprice>=validation.slotprice]"
   ]
  },
  {
   "cell_type": "code",
   "execution_count": 6,
   "metadata": {},
   "outputs": [],
   "source": [
    "train['size']=train['slotwidth']*train['slotheight']\n",
    "validation['size']=validation['slotwidth']*validation['slotheight']\n",
    "test['size']=test['slotwidth']*test['slotheight']\n",
    "\n",
    "train['OS'], train['browser'] = zip(*train['useragent'].map(lambda x: x.split('_')))\n",
    "validation['OS'], validation['browser'] = zip(*validation['useragent'].map(lambda x: x.split('_')))\n",
    "test['OS'], test['browser'] = zip(*test['useragent'].map(lambda x: x.split('_')))"
   ]
  },
  {
   "cell_type": "code",
   "execution_count": 7,
   "metadata": {},
   "outputs": [],
   "source": [
    "def pre_process_data(df, enforce_cols=None):\n",
    "    print(\"Input shape:\\t{}\".format(df.shape))\n",
    "    \n",
    "    df.ix[df.slotprice.between(0, 10), 'slotpricebucket'] = 1\n",
    "    df.ix[df.slotprice.between(11, 50), 'slotpricebucket'] = 2\n",
    "    df.ix[df.slotprice.between(51, 100), 'slotpricebucket'] = 3\n",
    "    df.ix[df.slotprice.between(101, 5000), 'slotpricebucket'] = 4\n",
    "    df['slotpricebucket'] = df['slotpricebucket'].astype(np.uint8)\n",
    "\n",
    "    pred=df.drop(['click','bidid','userid','IP','url','urlid','slotid','useragent','slotprice',\n",
    "                 'bidprice','payprice','domain','slotwidth', 'slotheight'],axis=1)\n",
    "    \n",
    "    # create dummy variables for categoricals\n",
    "    pred=pd.get_dummies(pred,dummy_na=True,columns=['weekday', 'hour', \n",
    "                                                       'OS', 'browser', \n",
    "                                                       'region', 'city', 'adexchange', \n",
    "                                                       'slotvisibility', 'slotformat',\n",
    "                                                       'creative', 'slotpricebucket','advertiser'##'ip_block'\n",
    "                                                    ,'keypage','size'])\n",
    "    pred = pred.join(df.usertag.astype(str).str.strip('[]').str.get_dummies(','))\n",
    "    pred=pred.drop(['usertag'],axis=1)\n",
    "    print(\"After converting categoricals:\\t{}\".format(pred.shape))\n",
    "    \n",
    "\n",
    "    # match test set and training set columns\n",
    "    if enforce_cols is not None:\n",
    "        to_drop = np.setdiff1d(pred.columns, enforce_cols)\n",
    "        to_add = np.setdiff1d(enforce_cols, pred.columns)\n",
    "        print(to_add)\n",
    "        print(to_drop)\n",
    "        pred.drop(to_drop, axis=1, inplace=True)\n",
    "        pred = pred.assign(**{c: 0 for c in to_add})\n",
    "    \n",
    "    pred.fillna(0, inplace=True)\n",
    "    \n",
    "    return pred\n",
    "\n",
    "\n",
    "def pre_process_data_test(df, enforce_cols=None):\n",
    "    print(\"Input shape:\\t{}\".format(df.shape))\n",
    "    \n",
    "    df.ix[df.slotprice.between(0, 10), 'slotpricebucket'] = 1\n",
    "    df.ix[df.slotprice.between(11, 50), 'slotpricebucket'] = 2\n",
    "    df.ix[df.slotprice.between(51, 100), 'slotpricebucket'] = 3\n",
    "    df.ix[df.slotprice.between(101, 5000), 'slotpricebucket'] = 4\n",
    "    df['slotpricebucket'] = df['slotpricebucket'].astype(np.uint8)\n",
    "\n",
    "    pred=df.drop(['bidid','userid','IP','url','urlid','slotid','useragent','slotprice',\n",
    "                 'domain','slotwidth', 'slotheight'],axis=1)\n",
    "    \n",
    "       # create dummy variables for categoricals\n",
    "    pred=pd.get_dummies(pred,dummy_na=True,columns=['weekday', 'hour',  # ])\n",
    "                                                       'OS', 'browser', \n",
    "                                                       'region', 'city', 'adexchange', \n",
    "                                                       'slotvisibility', 'slotformat',\n",
    "                                                       'creative', 'slotpricebucket','advertiser'##'ip_block'\n",
    "                                                    ,'keypage','size'])\n",
    "    pred = pred.join(df.usertag.astype(str).str.strip('[]').str.get_dummies(','))\n",
    "    pred=pred.drop(['usertag'],axis=1)\n",
    "    print(\"After converting categoricals:\\t{}\".format(pred.shape))\n",
    "    \n",
    "\n",
    "    # match test set and training set columns\n",
    "    if enforce_cols is not None:\n",
    "        to_drop = np.setdiff1d(pred.columns, enforce_cols)\n",
    "        to_add = np.setdiff1d(enforce_cols, pred.columns)\n",
    "        print(to_add)\n",
    "        print(to_drop)\n",
    "        pred.drop(to_drop, axis=1, inplace=True)\n",
    "        pred = pred.assign(**{c: 0 for c in to_add})\n",
    "    \n",
    "    pred.fillna(0, inplace=True)\n",
    "    \n",
    "    return pred"
   ]
  },
  {
   "cell_type": "code",
   "execution_count": 8,
   "metadata": {},
   "outputs": [
    {
     "name": "stdout",
     "output_type": "stream",
     "text": [
      "Input shape:\t(2418578, 28)\n"
     ]
    },
    {
     "name": "stderr",
     "output_type": "stream",
     "text": [
      "/Library/Frameworks/Python.framework/Versions/3.6/lib/python3.6/site-packages/ipykernel_launcher.py:4: DeprecationWarning: \n",
      ".ix is deprecated. Please use\n",
      ".loc for label based indexing or\n",
      ".iloc for positional indexing\n",
      "\n",
      "See the documentation here:\n",
      "http://pandas.pydata.org/pandas-docs/stable/indexing.html#ix-indexer-is-deprecated\n",
      "  after removing the cwd from sys.path.\n"
     ]
    },
    {
     "name": "stdout",
     "output_type": "stream",
     "text": [
      "After converting categoricals:\t(2418578, 741)\n",
      "Input shape:\t(302408, 28)\n",
      "After converting categoricals:\t(302408, 739)\n",
      "['creative_7324' 'creative_7332']\n",
      "[]\n",
      "Input shape:\t(303375, 25)\n"
     ]
    },
    {
     "name": "stderr",
     "output_type": "stream",
     "text": [
      "/Library/Frameworks/Python.framework/Versions/3.6/lib/python3.6/site-packages/ipykernel_launcher.py:42: DeprecationWarning: \n",
      ".ix is deprecated. Please use\n",
      ".loc for label based indexing or\n",
      ".iloc for positional indexing\n",
      "\n",
      "See the documentation here:\n",
      "http://pandas.pydata.org/pandas-docs/stable/indexing.html#ix-indexer-is-deprecated\n"
     ]
    },
    {
     "name": "stdout",
     "output_type": "stream",
     "text": [
      "After converting categoricals:\t(303375, 739)\n",
      "['creative_7324' 'creative_7327']\n",
      "[]\n"
     ]
    }
   ],
   "source": [
    "train_dum = pre_process_data(train)\n",
    "valid_dum = pre_process_data(validation,enforce_cols=train_dum.columns)\n",
    "test_dum = pre_process_data_test(test,enforce_cols=train_dum.columns)"
   ]
  },
  {
   "cell_type": "code",
   "execution_count": 9,
   "metadata": {},
   "outputs": [],
   "source": [
    "y = train.click\n",
    "y_validation = validation.click"
   ]
  },
  {
   "cell_type": "code",
   "execution_count": 10,
   "metadata": {},
   "outputs": [],
   "source": [
    "def order(df_test, df_train):\n",
    "    new_df = pd.DataFrame()\n",
    "    \n",
    "    for key in df_train:\n",
    "        new_df[key] = df_test[key]\n",
    "    return new_df\n",
    "X_validation = order(valid_dum,train_dum)\n",
    "X_test = order(test_dum,train_dum)"
   ]
  },
  {
   "cell_type": "code",
   "execution_count": 107,
   "metadata": {},
   "outputs": [],
   "source": [
    "rus = RandomUnderSampler(random_state=3,ratio={1:1786,0:10758})\n",
    "X_train,y_train = rus.fit_sample(train_dum,y)"
   ]
  },
  {
   "cell_type": "code",
   "execution_count": 108,
   "metadata": {},
   "outputs": [],
   "source": [
    "from sklearn.naive_bayes import GaussianNB\n",
    "from sklearn.svm import SVC\n",
    "clf1 = LogisticRegression(penalty='l1', max_iter=100, C=0.1,solver='saga',class_weight='unbalanced')\n",
    "#clf2 = KNeighborsClassifier(n_neighbors=3)\n",
    "#clf3 = GaussianNB()\n",
    "#clf4 = SVC(C = 0.1,kernel='sigmoid',gamma='auto',tol=0.001,max_iter=10,probability=True)\n",
    "clf5 = RandomForestClassifier(n_estimators=100, random_state=3)"
   ]
  },
  {
   "cell_type": "code",
   "execution_count": 71,
   "metadata": {},
   "outputs": [],
   "source": [
    "import lightgbm as lgb"
   ]
  },
  {
   "cell_type": "code",
   "execution_count": 73,
   "metadata": {},
   "outputs": [],
   "source": [
    "clf6 = lgb.LGBMClassifier(max_depth=6, n_estimators=100, learning_rate=0.05, silent = 0,\n",
    "                             subsample = 0.8, min_child_weight=3,\n",
    "                             colsample_bytree=0.8)"
   ]
  },
  {
   "cell_type": "code",
   "execution_count": 16,
   "metadata": {},
   "outputs": [
    {
     "data": {
      "text/plain": [
       "RandomForestClassifier(bootstrap=True, class_weight=None, criterion='gini',\n",
       "            max_depth=None, max_features='auto', max_leaf_nodes=None,\n",
       "            min_impurity_decrease=0.0, min_impurity_split=None,\n",
       "            min_samples_leaf=1, min_samples_split=2,\n",
       "            min_weight_fraction_leaf=0.0, n_estimators=100, n_jobs=1,\n",
       "            oob_score=False, random_state=3, verbose=0, warm_start=False)"
      ]
     },
     "execution_count": 16,
     "metadata": {},
     "output_type": "execute_result"
    }
   ],
   "source": [
    "clf1.fit(X_train,y_train)\n",
    "clf5.fit(X_train,y_train)"
   ]
  },
  {
   "cell_type": "code",
   "execution_count": 109,
   "metadata": {},
   "outputs": [
    {
     "data": {
      "text/plain": [
       "XGBClassifier(base_score=0.5, booster='gbtree', colsample_bylevel=1,\n",
       "       colsample_bytree=0.8, gamma=0, learning_rate=0.05, max_delta_step=0,\n",
       "       max_depth=6, min_child_weight=3, missing=None, n_estimators=100,\n",
       "       n_jobs=1, nthread=None, objective='binary:logistic', random_state=0,\n",
       "       reg_alpha=0, reg_lambda=1, scale_pos_weight=1, seed=None, silent=0,\n",
       "       subsample=0.8)"
      ]
     },
     "execution_count": 109,
     "metadata": {},
     "output_type": "execute_result"
    }
   ],
   "source": [
    "clf6.fit(X_train,y_train)"
   ]
  },
  {
   "cell_type": "code",
   "execution_count": 75,
   "metadata": {},
   "outputs": [
    {
     "data": {
      "image/png": "[encoded data removed]",
      "text/plain": [
       "<matplotlib.figure.Figure at 0x1f9bbda20>"
      ]
     },
     "metadata": {},
     "output_type": "display_data"
    }
   ],
   "source": [
    "y_valid1 = clf1.predict_proba(X_validation.as_matrix())\n",
    "y_valid2 = clf5.predict_proba(X_validation.as_matrix())\n",
    "y_valid3 = clf6.predict_proba(X_validation.as_matrix())\n",
    "fpr1, tpr1, thresholds1 = roc_curve(y_validation, y_valid1[:,1]) \n",
    "fpr2, tpr2, thresholds2 = roc_curve(y_validation, y_valid2[:,1])\n",
    "fpr3, tpr3, thresholds3 = roc_curve(y_validation, y_valid3[:,1])\n",
    "roc_auc1 = auc(x=fpr1, y=tpr1)\n",
    "roc_auc2 = auc(x=fpr2, y=tpr2)\n",
    "roc_auc3 = auc(x=fpr3, y=tpr3)\n",
    "linestyles = [':', '--', '-.', '--','-']\n",
    "plt.plot(fpr1, tpr1,color='blue',\n",
    "         label='%s (auc = %0.4f)' % ('Logistic Regression', roc_auc1))\n",
    "plt.plot(fpr2, tpr2,color='red',\n",
    "         label='%s (auc = %0.4f)' % ('Random Forest', roc_auc2))\n",
    "plt.plot(fpr3, tpr3,color='green',\n",
    "         label='%s (auc = %0.4f)' % ('LGBM', roc_auc3))\n",
    "plt.legend(loc='lower right')\n",
    "plt.plot([0, 1], [0, 1],\n",
    "         linestyle='--',\n",
    "         color='gray',\n",
    "         linewidth=2)\n",
    "plt.xlim([-0.1, 1.1])\n",
    "plt.ylim([-0.1, 1.1])\n",
    "plt.grid()\n",
    "plt.xlabel('False Positive Rate')\n",
    "plt.ylabel('True Positive Rate')\n",
    "plt.savefig('auc.png')\n",
    "plt.show()"
   ]
  },
  {
   "cell_type": "code",
   "execution_count": 24,
   "metadata": {},
   "outputs": [
    {
     "data": {
      "text/plain": [
       "0.022844183973849033"
      ]
     },
     "execution_count": 24,
     "metadata": {},
     "output_type": "execute_result"
    }
   ],
   "source": [
    "from sklearn.metrics import mean_squared_error\n",
    "mean_squared_error(y_validation, y_valid1[:,1])"
   ]
  },
  {
   "cell_type": "code",
   "execution_count": 76,
   "metadata": {},
   "outputs": [
    {
     "data": {
      "text/plain": [
       "0.016233092339062623"
      ]
     },
     "execution_count": 76,
     "metadata": {},
     "output_type": "execute_result"
    }
   ],
   "source": [
    "mean_squared_error(y_validation, y_valid3[:,1])"
   ]
  },
  {
   "cell_type": "raw",
   "metadata": {},
   "source": [
    "y_valid1 = clf1.predict_proba(X_validation.as_matrix())\n",
    "roc_auc_score(y_validation, y_valid1[:,1])"
   ]
  },
  {
   "cell_type": "code",
   "execution_count": 128,
   "metadata": {},
   "outputs": [],
   "source": [
    "\n",
    "y_valid2 = clf6.predict_proba(X_validation.as_matrix())\n",
    "#y_valid3 = clf5.predict_proba(X_validation.as_matrix())"
   ]
  },
  {
   "cell_type": "raw",
   "metadata": {},
   "source": [
    "from sklearn.model_selection import StratifiedKFold,cross_val_score,GridSearchCV\n",
    "xgb_model = xgboost.XGBClassifier()\n",
    "parameters = {'nthread':[4], \n",
    "              'objective':['binary:logistic'],\n",
    "              'learning_rate':[0.05],\n",
    "              'max_depth':[5,6], \n",
    "              'min_child_weight':[1,3],\n",
    "              'silent':[0],\n",
    "              'subsample':[0.8],\n",
    "              'colsample_bytree':[0.8],\n",
    "              'n_estimators':[50,100],\n",
    "              'missing':[-999],\n",
    "              'seed':[1337]\n",
    "             }\n",
    "gr=GridSearchCV(xgb_model,parameters,scoring='roc_auc',cv=10,verbose=3)\n",
    "gr.fit(X_train,y_train)"
   ]
  },
  {
   "cell_type": "code",
   "execution_count": 27,
   "metadata": {},
   "outputs": [
    {
     "data": {
      "text/plain": [
       "0.8536950234120932"
      ]
     },
     "execution_count": 27,
     "metadata": {},
     "output_type": "execute_result"
    }
   ],
   "source": [
    "clf5 = RandomForestClassifier(n_estimators=100, random_state=3)\n",
    "clf5.fit(X_train,y_train)\n",
    "y_scores=clf5.predict_proba(X_validation.as_matrix())\n",
    "roc_auc_score(y_validation, y_scores[:,1])"
   ]
  },
  {
   "cell_type": "raw",
   "metadata": {},
   "source": [
    "from sklearn.model_selection import StratifiedKFold,cross_val_score,GridSearchCV\n",
    "#lgbm = xgboost.XGBClassifier()\n",
    "lgb=lightgbm.LGBMClassifier()\n",
    "parameters = {'nthread':[4], \n",
    "              'learning_rate':[0.05],\n",
    "              'max_depth':[5,6,7], \n",
    "              'min_child_weight':[1,3],\n",
    "              'silent':[0],\n",
    "              'subsample':[0.8,0.9],\n",
    "              'colsample_bytree':[0.8,0.9],\n",
    "              'n_estimators':[50,100],\n",
    "              'missing':[-999],\n",
    "              'seed':[1337]\n",
    "             }\n",
    "lggr=GridSearchCV(lgb,parameters,scoring='roc_auc',cv=10,verbose=3)"
   ]
  },
  {
   "cell_type": "raw",
   "metadata": {},
   "source": [
    "lggr.fit(X=X_train,y=y_train)\n",
    "y_scores=lggr.predict_proba(X_validation.as_matrix())\n",
    "#false_positive_rate, true_positive_rate, thresholds = roc_curve(y_test, classifier.predict_proba(x_test)[:,1])\n",
    "#print(auc(false_positive_rate, true_positive_rate))\n",
    "roc_auc_score(y_validation, y_scores[:,1])"
   ]
  },
  {
   "cell_type": "markdown",
   "metadata": {},
   "source": [
    "# ortb1"
   ]
  },
  {
   "cell_type": "code",
   "execution_count": 100,
   "metadata": {},
   "outputs": [],
   "source": [
    "result=pd.DataFrame(columns=['lambda','c_value','imps','cost','click'])"
   ]
  },
  {
   "cell_type": "code",
   "execution_count": null,
   "metadata": {},
   "outputs": [],
   "source": [
    "y_test = clf6.predict_proba(X_test.as_matrix())\n",
    "y_valid = clf6.predict_proba(X_validation.as_matrix())\n",
    "# y_test = clf1.predict_proba(X_test.as_matrix())\n",
    "# y_valid = clf1.predict_proba(X_validation.as_matrix())\n",
    "# y_test = clf5.predict_proba(X_test.as_matrix())\n",
    "# y_valid = clf5.predict_proba(X_validation.as_matrix())\n",
    "#y_test=classifier.predict_proba(te)\n",
    "w=10716/train.shape[0]\n",
    "#print(w)\n",
    "test_score=y_test[:,1]/(y_test[:,1]+(1-y_test[:,1])/w)\n",
    "score=y_valid[:,1]/(y_valid[:,1]+(1-y_valid[:,1])/w)\n",
    "\n",
    "\n",
    "max_num=0\n",
    "max_bid=0\n",
    "s=0\n",
    "best_lambda=0\n",
    "c_op=0\n",
    "lambda_range=[1e-6]\n",
    "iteration=0#\n",
    "\n",
    "for c in np.arange(10,26 ,2):\n",
    "    for m in lambda_range:\n",
    "        num_click=0\n",
    "        flag=True\n",
    "        imp=0\n",
    "        s=0\n",
    "        size = validation.shape[0]\n",
    "        iteration+=1\n",
    "        for i in range(validation.shape[0]):\n",
    "            bid = np.sqrt(c / m * score[i] + c ** 2) - c\n",
    "            #onethird=(score[i]+np.sqrt((c**2) * (m**2)+score[i]**2))/(c*m)\n",
    "            #bid=(onethird**(1/3)-onethird**(-1/3))*c\n",
    "            if bid>validation.payprice[i] and flag:\n",
    "                #print('yes')\n",
    "                s=s+validation.payprice[i]\n",
    "                if s>6250000:\n",
    "                    s=s-validation.payprice[i]\n",
    "                    flag=False\n",
    "                    break\n",
    "                num_click=num_click+validation.click[i]\n",
    "                imp=imp+1\n",
    "        result.loc[iteration,'c_value']=c\n",
    "        result.loc[iteration,'lambda']=m\n",
    "        result.loc[iteration,'click']=num_click\n",
    "        result.loc[iteration,'cost']=s\n",
    "        result.loc[iteration,'imps']=imp\n",
    "    print(num_click)\n",
    "    if num_click>max_num:\n",
    "        print('increase')\n",
    "        max_num=num_click\n",
    "        max_bid=c\n",
    "        \n",
    "result['CTR']=result['click']/result['imps']\n",
    "result['eCPC']=result['cost']/result['click']/1000\n",
    "result['CPM']=result['cost']/result['imps']"
   ]
  },
  {
   "cell_type": "code",
   "execution_count": 116,
   "metadata": {},
   "outputs": [],
   "source": [
    "result['cost']=result['cost']/1000"
   ]
  },
  {
   "cell_type": "markdown",
   "metadata": {},
   "source": [
    "# ortb2"
   ]
  },
  {
   "cell_type": "code",
   "execution_count": 44,
   "metadata": {},
   "outputs": [
    {
     "data": {
      "text/html": [
       "<div>\n",
       "<style scoped>\n",
       "    .dataframe tbody tr th:only-of-type {\n",
       "        vertical-align: middle;\n",
       "    }\n",
       "\n",
       "    .dataframe tbody tr th {\n",
       "        vertical-align: top;\n",
       "    }\n",
       "\n",
       "    .dataframe thead th {\n",
       "        text-align: right;\n",
       "    }\n",
       "</style>\n",
       "<table border=\"1\" class=\"dataframe\">\n",
       "  <thead>\n",
       "    <tr style=\"text-align: right;\">\n",
       "      <th></th>\n",
       "      <th>lambda</th>\n",
       "      <th>c_value</th>\n",
       "      <th>imps</th>\n",
       "      <th>cost</th>\n",
       "      <th>click</th>\n",
       "      <th>CTR</th>\n",
       "      <th>eCPC</th>\n",
       "      <th>CPM</th>\n",
       "    </tr>\n",
       "  </thead>\n",
       "  <tbody>\n",
       "    <tr>\n",
       "      <th>5</th>\n",
       "      <td>1e-06</td>\n",
       "      <td>14</td>\n",
       "      <td>145296</td>\n",
       "      <td>6169781</td>\n",
       "      <td>152</td>\n",
       "      <td>0.00104614</td>\n",
       "      <td>40.5907</td>\n",
       "      <td>42.4635</td>\n",
       "    </tr>\n",
       "  </tbody>\n",
       "</table>\n",
       "</div>"
      ],
      "text/plain": [
       "  lambda c_value    imps     cost click         CTR     eCPC      CPM\n",
       "5  1e-06      14  145296  6169781   152  0.00104614  40.5907  42.4635"
      ]
     },
     "execution_count": 44,
     "metadata": {},
     "output_type": "execute_result"
    }
   ],
   "source": [
    "result=pd.DataFrame(columns=['lambda','c_value','imps','cost','click'])\n",
    "y_test = clf6.predict_proba(X_test.as_matrix())\n",
    "y_valid = clf6.predict_proba(X_validation.as_matrix())\n",
    "# y_test = clf1.predict_proba(X_test.as_matrix())\n",
    "# y_valid = clf1.predict_proba(X_validation.as_matrix())\n",
    "# y_test = clf5.predict_proba(X_test.as_matrix())\n",
    "# y_valid = clf5.predict_proba(X_validation.as_matrix())\n",
    "#y_test=classifier.predict_proba(te)\n",
    "w=10716/train.shape[0]\n",
    "#print(w)\n",
    "test_score=y_test[:,1]/(y_test[:,1]+(1-y_test[:,1])/w)\n",
    "score=y_valid[:,1]/(y_valid[:,1]+(1-y_valid[:,1])/w)\n",
    "\n",
    "\n",
    "max_num=0\n",
    "max_bid=0\n",
    "s=0\n",
    "best_lambda=0\n",
    "c_op=0\n",
    "lambda_range=[1e-6]\n",
    "iteration=0#\n",
    "\n",
    "for c in np.arange(10,26 ,2):\n",
    "    for m in lambda_range:\n",
    "        num_click=0\n",
    "        flag=True\n",
    "        imp=0\n",
    "        s=0\n",
    "        size = validation.shape[0]\n",
    "        iteration+=1\n",
    "        for i in range(validation.shape[0]):\n",
    "            #bid = np.sqrt(c / m * score[i] + c ** 2) - c\n",
    "            onethird=(score[i]+np.sqrt((c**2) * (m**2)+score[i]**2))/(c*m)\n",
    "            bid=(onethird**(1/3)-onethird**(-1/3))*c\n",
    "            if bid>validation.payprice[i] and flag:\n",
    "                #print('yes')\n",
    "                s=s+validation.payprice[i]\n",
    "                if s>6250000:\n",
    "                    s=s-validation.payprice[i]\n",
    "                    flag=False\n",
    "                    break\n",
    "                num_click=num_click+validation.click[i]\n",
    "                imp=imp+1\n",
    "        result.loc[iteration,'c_value']=c\n",
    "        result.loc[iteration,'lambda']=m\n",
    "        result.loc[iteration,'click']=num_click\n",
    "        result.loc[iteration,'cost']=s\n",
    "        result.loc[iteration,'imps']=imp\n",
    "    print(num_click)\n",
    "    if num_click>max_num:\n",
    "        print('increase')\n",
    "        max_num=num_click\n",
    "        max_bid=c\n",
    "        \n",
    "result['CTR']=result['click']/result['imps']\n",
    "result['eCPC']=result['cost']/result['click']/1000\n",
    "result['CPM']=result['cost']/result['imps']"
   ]
  },
  {
   "cell_type": "code",
   "execution_count": 81,
   "metadata": {},
   "outputs": [
    {
     "data": {
      "text/plain": [
       "(154, 928816, 46757, 0.0032936244840344763, 0.0006646649559535462)"
      ]
     },
     "execution_count": 81,
     "metadata": {},
     "output_type": "execute_result"
    }
   ],
   "source": [
    "max_num,s,imp, max_num/imp,sum(validation.click==1)/validation.shape[0]"
   ]
  },
  {
   "cell_type": "markdown",
   "metadata": {},
   "source": [
    "# linear"
   ]
  },
  {
   "cell_type": "code",
   "execution_count": null,
   "metadata": {},
   "outputs": [],
   "source": [
    "result=pd.DataFrame(columns=['bid_base','imps','cost','click'])\n",
    "y_test = clf6.predict_proba(X_test.as_matrix())\n",
    "y_valid = clf6.predict_proba(X_validation.as_matrix())\n",
    "# y_test = clf1.predict_proba(X_test.as_matrix())\n",
    "# y_valid = clf1.predict_proba(X_validation.as_matrix())\n",
    "# y_test = clf5.predict_proba(X_test.as_matrix())\n",
    "# y_valid = clf5.predict_proba(X_validation.as_matrix())\n",
    "w=10716/train.shape[0]\n",
    "#print(w)\n",
    "test_score=y_test[:,1]/(y_test[:,1]+(1-y_test[:,1])/w)\n",
    "score=y_valid[:,1]/(y_valid[:,1]+(1-y_valid[:,1])/w)\n",
    "\n",
    "avg=sum(train.click)/train.shape[0]\n",
    "\n",
    "score=score/avg\n",
    "test_score=test_score/avg\n",
    "score,np.mean(score),test_score,np.mean(test_score)\n",
    "\n",
    "max_num=0\n",
    "max_bid=0\n",
    "s=0\n",
    "iteration=0\n",
    "m=5.2e-7\n",
    "for bid_base in np.arange(190,210,3):\n",
    "    num_click=0\n",
    "    flag=True\n",
    "    imp=0\n",
    "    s=0\n",
    "    iteration+=1\n",
    "    for i in range(validation.shape[0]):\n",
    "        bid=bid_base*(score[i])\n",
    "        if bid>validation.payprice[i] and flag:\n",
    "            s=s+validation.payprice[i]\n",
    "            if s>6250000:\n",
    "                s=s-validation.payprice[i]\n",
    "                flag=False\n",
    "                break\n",
    "            num_click=num_click+validation.click[i]\n",
    "            imp=imp+1\n",
    "    result.loc[iteration,'bid_base']=bid_base\n",
    "    result.loc[iteration,'click']=num_click\n",
    "    result.loc[iteration,'cost']=s\n",
    "    result.loc[iteration,'imps']=imp\n",
    "    print(num_click)\n",
    "    if num_click>max_num:\n",
    "        print('increase')\n",
    "        max_num=num_click\n",
    "        max_bid=c\n",
    "        \n",
    "result['CTR']=result['click']/result['imps']\n",
    "result['eCPC']=result['cost']/result['click']/1000\n",
    "result['CPM']=result['cost']/result['imps']"
   ]
  },
  {
   "cell_type": "code",
   "execution_count": 115,
   "metadata": {},
   "outputs": [],
   "source": [
    "#max_num,s,imp, max_num/imp,sum(validation.click==1)/validation.shape[0]\n",
    "#bids = np.repeat(125, test_score.shape[0]) * (test_score)\n",
    "size=test_score.shape[0]\n",
    "bids = np.sqrt(np.repeat(20, size) / np.repeat(0.000001, size) * np.array(test_score) + np.repeat(20, size) ** 2) \\\n",
    "                - np.repeat(20, size)\n",
    "# Output results in csv file compatible with the submission\n",
    "submission = pd.DataFrame(np.asarray([np.array(test.bidid), bids]).T, columns=['bidid', 'bidprice'])\n",
    "submission.to_csv(\"ortb1.csv\", index=False)"
   ]
  },
  {
   "cell_type": "code",
   "execution_count": 284,
   "metadata": {},
   "outputs": [],
   "source": [
    "bids = np.repeat(200, test_score.shape[0]) * (test_score)\n",
    "submission = pd.DataFrame(np.asarray([np.array(test.bidid), bids]).T, columns=['bidid', 'bidprice'])\n",
    "submission.to_csv(\"linear.csv\", index=False)"
   ]
  },
  {
   "cell_type": "code",
   "execution_count": null,
   "metadata": {},
   "outputs": [],
   "source": []
  }
 ],
 "metadata": {
  "kernelspec": {
   "display_name": "Python 3",
   "language": "python",
   "name": "python3"
  },
  "language_info": {
   "codemirror_mode": {
    "name": "ipython",
    "version": 3
   },
   "file_extension": ".py",
   "mimetype": "text/x-python",
   "name": "python",
   "nbconvert_exporter": "python",
   "pygments_lexer": "ipython3",
   "version": "3.6.4"
  }
 },
 "nbformat": 4,
 "nbformat_minor": 2
}
