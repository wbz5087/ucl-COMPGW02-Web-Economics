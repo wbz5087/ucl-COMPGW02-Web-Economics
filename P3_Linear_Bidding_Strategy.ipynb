{
 "cells": [
  {
   "cell_type": "code",
   "execution_count": 1,
   "metadata": {},
   "outputs": [],
   "source": [
    "import pandas as pd\n",
    "import numpy as np\n",
    "import os\n",
    "import operator\n",
    "import matplotlib.pyplot as plt\n",
    "from imblearn.under_sampling import RandomUnderSampler\n",
    "from imblearn.over_sampling import RandomOverSampler\n",
    "from sklearn.linear_model import LogisticRegression "
   ]
  },
  {
   "cell_type": "code",
   "execution_count": 2,
   "metadata": {},
   "outputs": [],
   "source": [
    "train = pd.read_csv('train.csv')\n",
    "validation = pd.read_csv('validation.csv')\n",
    "test = pd.read_csv('test.csv')"
   ]
  },
  {
   "cell_type": "markdown",
   "metadata": {},
   "source": [
    "# Logistic Regression Model"
   ]
  },
  {
   "cell_type": "code",
   "execution_count": 3,
   "metadata": {},
   "outputs": [],
   "source": [
    "train['size'] = train['slotwidth'] * train['slotheight']\n",
    "validation['size'] = validation['slotwidth'] * validation['slotheight']\n",
    "test['size'] = test['slotwidth'] * test['slotheight']\n",
    "train['OS'], train['browser'] = zip(*train['useragent'].map(lambda x: x.split('_')))\n",
    "validation['OS'], validation['browser'] = zip(*validation['useragent'].map(lambda x: x.split('_')))\n",
    "test['OS'], test['browser'] = zip(*test['useragent'].map(lambda x: x.split('_')))"
   ]
  },
  {
   "cell_type": "code",
   "execution_count": 4,
   "metadata": {},
   "outputs": [],
   "source": [
    "def pre_process_data(df, enforce_cols=None):\n",
    "    print(\"Input shape:\\t{}\".format(df.shape))\n",
    "    \n",
    "    df.ix[df.slotprice.between(0, 10), 'slotpricebucket'] = 1\n",
    "    df.ix[df.slotprice.between(11, 50), 'slotpricebucket'] = 2\n",
    "    df.ix[df.slotprice.between(51, 100), 'slotpricebucket'] = 3\n",
    "    df.ix[df.slotprice.between(101, 5000), 'slotpricebucket'] = 4\n",
    "    df['slotpricebucket'] = df['slotpricebucket'].astype(np.uint8)\n",
    "\n",
    "    pred=df.drop(['click','bidid','userid','IP','url','urlid','slotid','useragent','slotprice',\n",
    "                 'bidprice','payprice','domain','slotwidth', 'slotheight'],axis=1)\n",
    "    \n",
    "    # create dummy variables for categoricals\n",
    "    pred=pd.get_dummies(pred,dummy_na=True,columns=['weekday', 'hour', \n",
    "                                                       'OS', 'browser', \n",
    "                                                       'region', 'city', 'adexchange', \n",
    "                                                       'slotvisibility', 'slotformat',\n",
    "                                                       'creative', 'slotpricebucket','advertiser'##'ip_block'\n",
    "                                                    ,'keypage','size'])\n",
    "    pred = pred.join(df.usertag.astype(str).str.strip('[]').str.get_dummies(','))\n",
    "    pred=pred.drop(['usertag'],axis=1)\n",
    "    print(\"After converting categoricals:\\t{}\".format(pred.shape))\n",
    "    \n",
    "\n",
    "    # match test set and training set columns\n",
    "    if enforce_cols is not None:\n",
    "        to_drop = np.setdiff1d(pred.columns, enforce_cols)\n",
    "        to_add = np.setdiff1d(enforce_cols, pred.columns)\n",
    "        print(to_add)\n",
    "        print(to_drop)\n",
    "        pred.drop(to_drop, axis=1, inplace=True)\n",
    "        pred = pred.assign(**{c: 0 for c in to_add})\n",
    "    \n",
    "    pred.fillna(0, inplace=True)\n",
    "    \n",
    "    return pred\n",
    "\n",
    "\n",
    "def pre_process_data_test(df, enforce_cols=None):\n",
    "    print(\"Input shape:\\t{}\".format(df.shape))\n",
    "    \n",
    "    df.ix[df.slotprice.between(0, 10), 'slotpricebucket'] = 1\n",
    "    df.ix[df.slotprice.between(11, 50), 'slotpricebucket'] = 2\n",
    "    df.ix[df.slotprice.between(51, 100), 'slotpricebucket'] = 3\n",
    "    df.ix[df.slotprice.between(101, 5000), 'slotpricebucket'] = 4\n",
    "    df['slotpricebucket'] = df['slotpricebucket'].astype(np.uint8)\n",
    "\n",
    "    pred=df.drop(['bidid','userid','IP','url','urlid','slotid','useragent','slotprice',\n",
    "                 'domain','slotwidth', 'slotheight'],axis=1)\n",
    "    \n",
    "       # create dummy variables for categoricals\n",
    "    pred = pd.get_dummies(pred,dummy_na=True,columns=['weekday', 'hour',  # ])\n",
    "                                                       'OS', 'browser', \n",
    "                                                       'region', 'city', 'adexchange', \n",
    "                                                       'slotvisibility', 'slotformat',\n",
    "                                                       'creative', 'slotpricebucket','advertiser'##'ip_block'\n",
    "                                                    ,'keypage','size'])\n",
    "    pred = pred.join(df.usertag.astype(str).str.strip('[]').str.get_dummies(','))\n",
    "    pred = pred.drop(['usertag'],axis=1)\n",
    "    print(\"After converting categoricals:\\t{}\".format(pred.shape))\n",
    "    \n",
    "\n",
    "    # match test set and training set columns\n",
    "    if enforce_cols is not None:\n",
    "        to_drop = np.setdiff1d(pred.columns, enforce_cols)\n",
    "        to_add = np.setdiff1d(enforce_cols, pred.columns)\n",
    "        print(to_add)\n",
    "        print(to_drop)\n",
    "        pred.drop(to_drop, axis=1, inplace=True)\n",
    "        pred = pred.assign(**{c: 0 for c in to_add})\n",
    "    \n",
    "    pred.fillna(0, inplace=True)\n",
    "    \n",
    "    return pred"
   ]
  },
  {
   "cell_type": "code",
   "execution_count": 5,
   "metadata": {},
   "outputs": [
    {
     "name": "stdout",
     "output_type": "stream",
     "text": [
      "Input shape:\t(2430981, 28)\n"
     ]
    },
    {
     "name": "stderr",
     "output_type": "stream",
     "text": [
      "/Library/Frameworks/Python.framework/Versions/3.6/lib/python3.6/site-packages/ipykernel_launcher.py:4: DeprecationWarning: \n",
      ".ix is deprecated. Please use\n",
      ".loc for label based indexing or\n",
      ".iloc for positional indexing\n",
      "\n",
      "See the documentation here:\n",
      "http://pandas.pydata.org/pandas-docs/stable/indexing.html#ix-indexer-is-deprecated\n",
      "  after removing the cwd from sys.path.\n"
     ]
    },
    {
     "name": "stdout",
     "output_type": "stream",
     "text": [
      "After converting categoricals:\t(2430981, 741)\n",
      "Input shape:\t(303925, 28)\n",
      "After converting categoricals:\t(303925, 739)\n",
      "['creative_7324' 'creative_7332']\n",
      "[]\n",
      "Input shape:\t(303375, 25)\n"
     ]
    },
    {
     "name": "stderr",
     "output_type": "stream",
     "text": [
      "/Library/Frameworks/Python.framework/Versions/3.6/lib/python3.6/site-packages/ipykernel_launcher.py:42: DeprecationWarning: \n",
      ".ix is deprecated. Please use\n",
      ".loc for label based indexing or\n",
      ".iloc for positional indexing\n",
      "\n",
      "See the documentation here:\n",
      "http://pandas.pydata.org/pandas-docs/stable/indexing.html#ix-indexer-is-deprecated\n"
     ]
    },
    {
     "name": "stdout",
     "output_type": "stream",
     "text": [
      "After converting categoricals:\t(303375, 739)\n",
      "['creative_7324' 'creative_7327']\n",
      "[]\n"
     ]
    }
   ],
   "source": [
    "train_dum = pre_process_data(train)\n",
    "valid_dum = pre_process_data(validation,enforce_cols=train_dum.columns)\n",
    "test_dum = pre_process_data_test(test,enforce_cols=train_dum.columns)"
   ]
  },
  {
   "cell_type": "code",
   "execution_count": 6,
   "metadata": {},
   "outputs": [],
   "source": [
    "y = train.click\n",
    "y_validation = validation.click"
   ]
  },
  {
   "cell_type": "code",
   "execution_count": 7,
   "metadata": {},
   "outputs": [],
   "source": [
    "def order(df_test, df_train):\n",
    "    new_df = pd.DataFrame()\n",
    "    \n",
    "    for key in df_train:\n",
    "        new_df[key] = df_test[key]\n",
    "    return new_df\n",
    "X_validation = order(valid_dum,train_dum)\n",
    "X_test = order(test_dum,train_dum)"
   ]
  },
  {
   "cell_type": "code",
   "execution_count": 8,
   "metadata": {},
   "outputs": [],
   "source": [
    "rus = RandomUnderSampler(random_state=3,ratio={1:1786,0:10716})\n",
    "X_train,y_train = rus.fit_sample(train_dum,y)"
   ]
  },
  {
   "cell_type": "code",
   "execution_count": 9,
   "metadata": {},
   "outputs": [
    {
     "data": {
      "text/plain": [
       "LogisticRegression(C=0.1, class_weight='unbalanced', dual=False,\n",
       "          fit_intercept=True, intercept_scaling=1, max_iter=100,\n",
       "          multi_class='ovr', n_jobs=1, penalty='l1', random_state=None,\n",
       "          solver='saga', tol=0.0001, verbose=0, warm_start=False)"
      ]
     },
     "execution_count": 9,
     "metadata": {},
     "output_type": "execute_result"
    }
   ],
   "source": [
    "model_LR = LogisticRegression(penalty = 'l1', max_iter = 100, C = 0.1,\n",
    "                              solver = 'saga',class_weight = 'unbalanced')\n",
    "model_LR.fit(X_train, y_train)"
   ]
  },
  {
   "cell_type": "code",
   "execution_count": 10,
   "metadata": {},
   "outputs": [],
   "source": [
    "#X_validation = X_validation.as_matrix()\n",
    "y_valid_pre = model_LR.predict_proba(X_validation)\n",
    "pCTRval = pd.DataFrame(y_valid_pre)"
   ]
  },
  {
   "cell_type": "code",
   "execution_count": 11,
   "metadata": {},
   "outputs": [],
   "source": [
    "#X_test = X_test.as_matrix()\n",
    "y_test_pre = model_LR.predict_proba(X_test)\n",
    "pCTRtest = pd.DataFrame(y_test_pre)"
   ]
  },
  {
   "cell_type": "code",
   "execution_count": 12,
   "metadata": {},
   "outputs": [],
   "source": [
    "w=10716/train.shape[0]\n",
    "avgCTR=sum(train.click)/train.shape[0]\n",
    "\n",
    "test_score = y_test_pre[:,1]/(y_test_pre[:,1]+(1-y_test_pre[:,1])/w)\n",
    "valid_score = y_valid_pre[:,1]/(y_valid_pre[:,1]+(1-y_valid_pre[:,1])/w)"
   ]
  },
  {
   "cell_type": "markdown",
   "metadata": {},
   "source": [
    "# Linear Strategy"
   ]
  },
  {
   "cell_type": "code",
   "execution_count": 13,
   "metadata": {},
   "outputs": [],
   "source": [
    "eval_linear = pd.DataFrame(columns=['bid_base','Imps','spend','clicks'])\n",
    "\n",
    "max_num = 0\n",
    "max_bid = 0\n",
    "spend = 0\n",
    "iteration = 0\n",
    "\n",
    "for bid_base in np.arange(3,300, 3):\n",
    "    num_click = 0\n",
    "    flag = True\n",
    "    Imps = 0\n",
    "    spend = 0\n",
    "    iteration += 1\n",
    "    for i in range(validation.shape[0]):\n",
    "        bid = bid_base*(valid_score[i]/avgCTR)\n",
    "        if bid >= validation.payprice[i] and flag:\n",
    "            spend = spend + validation.payprice[i]\n",
    "            if spend > 6250000:\n",
    "                spend = spend - validation.payprice[i]\n",
    "                flag = False\n",
    "                break\n",
    "            num_click = num_click + validation.click[i]\n",
    "            Imps = Imps + 1\n",
    "    eval_linear.loc[iteration,'bid_base'] = bid_base\n",
    "    eval_linear.loc[iteration,'clicks'] = num_click\n",
    "    eval_linear.loc[iteration,'spend'] = spend/1000\n",
    "    eval_linear.loc[iteration,'Imps'] = Imps\n",
    "\n",
    "    if num_click > max_num:\n",
    "        max_num = num_click\n",
    "        max_bid = bid_base\n",
    "        \n",
    "eval_linear['CTR'] = eval_linear['clicks']/eval_linear['Imps']\n",
    "eval_linear['eCPC'] = eval_linear['spend']/eval_linear['clicks']\n",
    "eval_linear['CPM'] = eval_linear['spend']*1000/eval_linear['Imps']"
   ]
  },
  {
   "cell_type": "code",
   "execution_count": 16,
   "metadata": {},
   "outputs": [
    {
     "data": {
      "text/html": [
       "<div>\n",
       "<style scoped>\n",
       "    .dataframe tbody tr th:only-of-type {\n",
       "        vertical-align: middle;\n",
       "    }\n",
       "\n",
       "    .dataframe tbody tr th {\n",
       "        vertical-align: top;\n",
       "    }\n",
       "\n",
       "    .dataframe thead th {\n",
       "        text-align: right;\n",
       "    }\n",
       "</style>\n",
       "<table border=\"1\" class=\"dataframe\">\n",
       "  <thead>\n",
       "    <tr style=\"text-align: right;\">\n",
       "      <th></th>\n",
       "      <th>bid_base</th>\n",
       "      <th>Imps</th>\n",
       "      <th>spend</th>\n",
       "      <th>clicks</th>\n",
       "      <th>CTR</th>\n",
       "      <th>eCPC</th>\n",
       "      <th>CPM</th>\n",
       "    </tr>\n",
       "  </thead>\n",
       "  <tbody>\n",
       "    <tr>\n",
       "      <th>33</th>\n",
       "      <td>99</td>\n",
       "      <td>132199</td>\n",
       "      <td>6155.03</td>\n",
       "      <td>159</td>\n",
       "      <td>0.00120273</td>\n",
       "      <td>38.7109</td>\n",
       "      <td>46.5589</td>\n",
       "    </tr>\n",
       "  </tbody>\n",
       "</table>\n",
       "</div>"
      ],
      "text/plain": [
       "   bid_base    Imps    spend clicks         CTR     eCPC      CPM\n",
       "33       99  132199  6155.03    159  0.00120273  38.7109  46.5589"
      ]
     },
     "execution_count": 16,
     "metadata": {},
     "output_type": "execute_result"
    }
   ],
   "source": [
    "eval_linear.iloc[np.where(eval_linear.clicks == eval_linear.clicks.max())[0]]"
   ]
  },
  {
   "cell_type": "code",
   "execution_count": 21,
   "metadata": {},
   "outputs": [
    {
     "data": {
      "text/html": [
       "<div>\n",
       "<style scoped>\n",
       "    .dataframe tbody tr th:only-of-type {\n",
       "        vertical-align: middle;\n",
       "    }\n",
       "\n",
       "    .dataframe tbody tr th {\n",
       "        vertical-align: top;\n",
       "    }\n",
       "\n",
       "    .dataframe thead th {\n",
       "        text-align: right;\n",
       "    }\n",
       "</style>\n",
       "<table border=\"1\" class=\"dataframe\">\n",
       "  <thead>\n",
       "    <tr style=\"text-align: right;\">\n",
       "      <th></th>\n",
       "      <th>bid_base</th>\n",
       "      <th>Imps</th>\n",
       "      <th>spend</th>\n",
       "      <th>clicks</th>\n",
       "      <th>CTR</th>\n",
       "      <th>eCPC</th>\n",
       "      <th>CPM</th>\n",
       "    </tr>\n",
       "  </thead>\n",
       "  <tbody>\n",
       "    <tr>\n",
       "      <th>29</th>\n",
       "      <td>87</td>\n",
       "      <td>118398</td>\n",
       "      <td>5276.9</td>\n",
       "      <td>155</td>\n",
       "      <td>0.00130914</td>\n",
       "      <td>34.0445</td>\n",
       "      <td>44.5691</td>\n",
       "    </tr>\n",
       "    <tr>\n",
       "      <th>30</th>\n",
       "      <td>90</td>\n",
       "      <td>121949</td>\n",
       "      <td>5497.41</td>\n",
       "      <td>156</td>\n",
       "      <td>0.00127922</td>\n",
       "      <td>35.2398</td>\n",
       "      <td>45.0796</td>\n",
       "    </tr>\n",
       "    <tr>\n",
       "      <th>31</th>\n",
       "      <td>93</td>\n",
       "      <td>125468</td>\n",
       "      <td>5718.31</td>\n",
       "      <td>156</td>\n",
       "      <td>0.00124334</td>\n",
       "      <td>36.6558</td>\n",
       "      <td>45.5758</td>\n",
       "    </tr>\n",
       "    <tr>\n",
       "      <th>32</th>\n",
       "      <td>96</td>\n",
       "      <td>128824</td>\n",
       "      <td>5934.85</td>\n",
       "      <td>157</td>\n",
       "      <td>0.00121872</td>\n",
       "      <td>37.8016</td>\n",
       "      <td>46.0694</td>\n",
       "    </tr>\n",
       "    <tr>\n",
       "      <th>33</th>\n",
       "      <td>99</td>\n",
       "      <td>132199</td>\n",
       "      <td>6155.03</td>\n",
       "      <td>159</td>\n",
       "      <td>0.00120273</td>\n",
       "      <td>38.7109</td>\n",
       "      <td>46.5589</td>\n",
       "    </tr>\n",
       "    <tr>\n",
       "      <th>34</th>\n",
       "      <td>102</td>\n",
       "      <td>133163</td>\n",
       "      <td>6249.96</td>\n",
       "      <td>156</td>\n",
       "      <td>0.0011715</td>\n",
       "      <td>40.0639</td>\n",
       "      <td>46.9347</td>\n",
       "    </tr>\n",
       "    <tr>\n",
       "      <th>35</th>\n",
       "      <td>105</td>\n",
       "      <td>131907</td>\n",
       "      <td>6249.98</td>\n",
       "      <td>147</td>\n",
       "      <td>0.00111442</td>\n",
       "      <td>42.5169</td>\n",
       "      <td>47.3817</td>\n",
       "    </tr>\n",
       "    <tr>\n",
       "      <th>36</th>\n",
       "      <td>108</td>\n",
       "      <td>130782</td>\n",
       "      <td>6249.95</td>\n",
       "      <td>143</td>\n",
       "      <td>0.00109342</td>\n",
       "      <td>43.706</td>\n",
       "      <td>47.7891</td>\n",
       "    </tr>\n",
       "    <tr>\n",
       "      <th>37</th>\n",
       "      <td>111</td>\n",
       "      <td>129819</td>\n",
       "      <td>6249.91</td>\n",
       "      <td>141</td>\n",
       "      <td>0.00108613</td>\n",
       "      <td>44.3256</td>\n",
       "      <td>48.1433</td>\n",
       "    </tr>\n",
       "  </tbody>\n",
       "</table>\n",
       "</div>"
      ],
      "text/plain": [
       "   bid_base    Imps    spend clicks         CTR     eCPC      CPM\n",
       "29       87  118398   5276.9    155  0.00130914  34.0445  44.5691\n",
       "30       90  121949  5497.41    156  0.00127922  35.2398  45.0796\n",
       "31       93  125468  5718.31    156  0.00124334  36.6558  45.5758\n",
       "32       96  128824  5934.85    157  0.00121872  37.8016  46.0694\n",
       "33       99  132199  6155.03    159  0.00120273  38.7109  46.5589\n",
       "34      102  133163  6249.96    156   0.0011715  40.0639  46.9347\n",
       "35      105  131907  6249.98    147  0.00111442  42.5169  47.3817\n",
       "36      108  130782  6249.95    143  0.00109342   43.706  47.7891\n",
       "37      111  129819  6249.91    141  0.00108613  44.3256  48.1433"
      ]
     },
     "execution_count": 21,
     "metadata": {},
     "output_type": "execute_result"
    }
   ],
   "source": [
    "eval_linear[28:37]"
   ]
  },
  {
   "cell_type": "code",
   "execution_count": 15,
   "metadata": {},
   "outputs": [
    {
     "data": {
      "image/png": "[encoded data removed]",
      "text/plain": [
       "<matplotlib.figure.Figure at 0x1630db940>"
      ]
     },
     "metadata": {},
     "output_type": "display_data"
    }
   ],
   "source": [
    "first_line = eval_linear[['bid_base','clicks']].astype(float)\n",
    "second_line = eval_linear[['bid_base','CTR']].astype(float)\n",
    "\n",
    "fig, ax1 = plt.subplots()\n",
    "ax1.plot(first_line.bid_base,first_line.clicks, color='b')\n",
    "ax1.set_xlabel('Bid')\n",
    "ax1.set_ylabel('Clicks', color='b')\n",
    "ax1.set_ylim([40,170])\n",
    "\n",
    "ax2 = ax1.twinx()\n",
    "ax2.plot(second_line.bid_base, second_line.CTR, color='g')\n",
    "ax2.set_ylabel('CTR', color='g')\n",
    "ax2.set_ylim([0,0.012])\n",
    "             \n",
    "plt.title(\"Linear Strategy\")\n",
    "plt.show()"
   ]
  }
 ],
 "metadata": {
  "kernelspec": {
   "display_name": "Python 3",
   "language": "python",
   "name": "python3"
  },
  "language_info": {
   "codemirror_mode": {
    "name": "ipython",
    "version": 3
   },
   "file_extension": ".py",
   "mimetype": "text/x-python",
   "name": "python",
   "nbconvert_exporter": "python",
   "pygments_lexer": "ipython3",
   "version": "3.6.4"
  }
 },
 "nbformat": 4,
 "nbformat_minor": 2
}
